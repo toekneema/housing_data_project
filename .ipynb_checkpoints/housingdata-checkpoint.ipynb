{
 "cells": [
  {
   "cell_type": "code",
   "execution_count": 1,
   "metadata": {},
   "outputs": [],
   "source": [
    "import pandas as pd\n",
    "import mysql.connector"
   ]
  },
  {
   "cell_type": "code",
   "execution_count": 2,
   "metadata": {},
   "outputs": [],
   "source": [
    "db = mysql.connector.connect(\n",
    "    host=\"127.0.0.1\",               #hostname\n",
    "    user=\"root\",                   # the user who has privilege to the db\n",
    "    passwd=\"bloodyguysr1!\",               #password for user\n",
    "    database=\"housing_data\",               #database name\n",
    "    auth_plugin = 'mysql_native_password',\n",
    ")"
   ]
  },
  {
   "cell_type": "code",
   "execution_count": 3,
   "metadata": {},
   "outputs": [],
   "source": [
    "cursor = db.cursor()\n",
    "#CREATE TABLE, only do this ONCE\n",
    "# cursor.execute(\"\"\"\n",
    "#     CREATE TABLE IF NOT EXISTS ZHVI(\n",
    "#         regionId INT,\n",
    "#         sizeRank INT,\n",
    "#         date DATE,\n",
    "#         city varchar(100),\n",
    "#         zhviValue DOUBLE\n",
    "#     )\n",
    "# \"\"\")\n",
    "\n",
    "#DROP TABLE, only do when necessary\n",
    "# cursor.execute(\"\"\"\n",
    "#     DROP TABLE ZHVI\n",
    "# \"\"\")"
   ]
  },
  {
   "cell_type": "code",
   "execution_count": 4,
   "metadata": {},
   "outputs": [],
   "source": [
    "df = pd.read_csv('metro_zhvi.csv')\n",
    "colNames = df.columns[5:]\n",
    "\n",
    "#INSERT INTO TABLE, only do this ONCE\n",
    "# for row in df.itertuples():\n",
    "#     regionId, sizeRank, city, = row[1], row[2], row[3]\n",
    "#     for colVal, colName in zip(row[6:], colNames):\n",
    "#         date = colName.zfill(10)\n",
    "#         date = date[-4:] + '-' + date[:2] + '-' + date[-7:-5]\n",
    "#         query = (\"\"\"\n",
    "#             INSERT INTO ZHVI\n",
    "#             (regionId, sizeRank, date, city, zhviValue)\n",
    "#             VALUES (%s, %s, %s, %s, %s)\n",
    "#         \"\"\")\n",
    "#         tupleData = (regionId, sizeRank, date, city, colVal)\n",
    "#         cursor.execute(query, tupleData)\n",
    "#         db.commit()"
   ]
  },
  {
   "cell_type": "code",
   "execution_count": 5,
   "metadata": {},
   "outputs": [],
   "source": [
    "# number of total cities/metros\n",
    "cursor.execute(\"\"\"\n",
    "    select count(*)\n",
    "    from\n",
    "        (select count(*)\n",
    "        from zhvi\n",
    "        group by regionId) a\n",
    "\"\"\")\n",
    "totalCities = cursor.fetchone() # 911"
   ]
  },
  {
   "cell_type": "code",
   "execution_count": 6,
   "metadata": {},
   "outputs": [],
   "source": [
    "# number of entries per metro. starts 9/30/17 - 12/31/20\n",
    "cursor.execute(\"\"\"\n",
    "    select count(*)\n",
    "    from zhvi\n",
    "    group by regionId\n",
    "    LIMIT 1\n",
    "\"\"\")\n",
    "entriesPerCity = cursor.fetchone() # 40"
   ]
  },
  {
   "cell_type": "code",
   "execution_count": 16,
   "metadata": {},
   "outputs": [],
   "source": [
    "# top 20 metros by avg ZHVI\n",
    "cursor.execute(\"\"\"\n",
    "    select city, FORMAT(avg(zhviValue),0) as avgZHVI\n",
    "    from zhvi\n",
    "    group by regionId\n",
    "    order by avg(zhviValue) desc\n",
    "    LIMIT 20\n",
    "\"\"\")\n",
    "top20Cities = cursor.fetchall()"
   ]
  },
  {
   "cell_type": "code",
   "execution_count": 14,
   "metadata": {},
   "outputs": [],
   "source": [
    "# top 20 states by avg ZHVI\n",
    "cursor.execute(\"\"\"\n",
    "    SELECT RIGHT(city, 2) AS state, format(avg(zhviValue),0) as avgZHVI\n",
    "    from zhvi\n",
    "    where city != 'United States'\n",
    "    group by state\n",
    "    order by avg(zhviValue) desc\n",
    "    limit 20\n",
    "\"\"\")\n",
    "top20States = cursor.fetchall()"
   ]
  },
  {
   "cell_type": "code",
   "execution_count": 19,
   "metadata": {},
   "outputs": [],
   "source": [
    "# most ZHVI increase in the past 4 years by city/metro (percentage, 9/2017 - 12/2020)\n",
    "cursor.execute(\"\"\"\n",
    "    SELECT z1.city, (z1.zhviValue - z2.zhviValue)*100.0 / z2.zhviValue as percentChange\n",
    "    from zhvi z1\n",
    "    join zhvi z2 using(regionId)\n",
    "    group by z1.city\n",
    "    order by percentChange desc\n",
    "    LIMIT 20\n",
    "\"\"\")\n",
    "mostZHVIincrease = cursor.fetchall()"
   ]
  },
  {
   "cell_type": "code",
   "execution_count": 21,
   "metadata": {},
   "outputs": [],
   "source": [
    "# top 5 most ZHVI increase by year (2018,2019,2020)\n",
    "cursor.execute(\"\"\"\n",
    "    select city,\n",
    "        (y2018 - y2017)*100.0 / y2017 as percentChange2018,\n",
    "        (y2019 - y2018)*100.0 / y2018 as percentChange2019,\n",
    "        (y2020 - y2019)*100.0 / y2019 as percentChange2020\n",
    "    FROM\n",
    "        (Select city,\n",
    "            sum(case when y2017 is not null then y2017 end) as y2017,\n",
    "            sum(case when y2018 is not null then y2018 end) as y2018,\n",
    "            sum(case when y2019 is not null then y2019 end) as y2019,\n",
    "            sum(case when y2020 is not null then y2020 end) as y2020\n",
    "        FROM\n",
    "            (SELECT city,\n",
    "                case when year=2017 then avgZHVI end as y2017,\n",
    "                case when year=2018 then avgZHVI end as y2018,\n",
    "                case when year=2019 then avgZHVI end as y2019,\n",
    "                case when year=2020 then avgZHVI end as y2020\n",
    "            FROM\n",
    "                (select extract(year from date) as year, city, avg(zhviValue) as avgZHVI\n",
    "                from zhvi\n",
    "                where city != 'United States'\n",
    "                group by year, city) a) b\n",
    "        group by city) c\n",
    "    order by percentChange2020 desc\n",
    "    LIMIT 20\n",
    "\"\"\")\n",
    "zhviIncreaseByYear = cursor.fetchall()\n"
   ]
  },
  {
   "cell_type": "code",
   "execution_count": null,
   "metadata": {},
   "outputs": [],
   "source": []
  }
 ],
 "metadata": {
  "kernelspec": {
   "display_name": "venv",
   "language": "python",
   "name": "venv"
  },
  "language_info": {
   "codemirror_mode": {
    "name": "ipython",
    "version": 3
   },
   "file_extension": ".py",
   "mimetype": "text/x-python",
   "name": "python",
   "nbconvert_exporter": "python",
   "pygments_lexer": "ipython3",
   "version": "3.8.3"
  }
 },
 "nbformat": 4,
 "nbformat_minor": 4
}
