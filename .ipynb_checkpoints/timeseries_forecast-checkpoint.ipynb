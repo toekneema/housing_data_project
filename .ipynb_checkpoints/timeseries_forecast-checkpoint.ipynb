{
 "cells": [
  {
   "cell_type": "code",
   "execution_count": 1,
   "metadata": {},
   "outputs": [],
   "source": [
    "import matplotlib.pyplot as plt\n",
    "import tensorflow as tf\n",
    "import keras\n",
    "import numpy as np\n",
    "import pandas as pd\n",
    "import datetime\n",
    "import mysql.connector\n",
    "\n",
    "from keras.models import Sequential\n",
    "from keras.layers import Input, Dense, GRU, Embedding\n",
    "from keras.optimizers import RMSprop\n",
    "from keras.callbacks import EarlyStopping, ModelCheckpoint"
   ]
  },
  {
   "cell_type": "code",
   "execution_count": 4,
   "metadata": {},
   "outputs": [
    {
     "data": {
      "image/png": "[encoded data removed]",
      "text/plain": [
       "<Figure size 432x288 with 1 Axes>"
      ]
     },
     "metadata": {
      "needs_background": "light"
     },
     "output_type": "display_data"
    }
   ],
   "source": [
    "# basic plotting of the zhvi value on those dates\n",
    "df = pd.read_csv('metro_zhvi.csv')\n",
    "dates = df.columns[5:]\n",
    "x_vals = [datetime.datetime.strptime(d,\"%m/%d/%Y\").date() for d in dates]\n",
    "\n",
    "for row in df.iloc[:3].itertuples():\n",
    "    y_vals = row[6:]\n",
    "    plt.plot(x_vals, y_vals)"
   ]
  },
  {
   "cell_type": "code",
   "execution_count": 9,
   "metadata": {},
   "outputs": [],
   "source": [
    "db = mysql.connector.connect(\n",
    "    host=\"127.0.0.1\",               #hostname\n",
    "    user=\"root\",                   # the user who has privilege to the db\n",
    "    passwd=\"bloodyguysr1!\",               #password for user\n",
    "    database=\"housing_data\",               #database name\n",
    "    auth_plugin = 'mysql_native_password',\n",
    ")\n",
    "cursor = db.cursor()"
   ]
  },
  {
   "cell_type": "code",
   "execution_count": 22,
   "metadata": {},
   "outputs": [],
   "source": [
    "# getting all cols and rows where the city is Boise City, ID\n",
    "cursor.execute(\"\"\"\n",
    "    SELECT *\n",
    "    FROM zhvi\n",
    "    WHERE city = 'Boise City, ID'\n",
    "\"\"\")\n",
    "data = cursor.fetchall()"
   ]
  },
  {
   "cell_type": "code",
   "execution_count": 68,
   "metadata": {},
   "outputs": [
    {
     "data": {
      "text/html": [
       "<div>\n",
       "<style scoped>\n",
       "    .dataframe tbody tr th:only-of-type {\n",
       "        vertical-align: middle;\n",
       "    }\n",
       "\n",
       "    .dataframe tbody tr th {\n",
       "        vertical-align: top;\n",
       "    }\n",
       "\n",
       "    .dataframe thead th {\n",
       "        text-align: right;\n",
       "    }\n",
       "</style>\n",
       "<table border=\"1\" class=\"dataframe\">\n",
       "  <thead>\n",
       "    <tr style=\"text-align: right;\">\n",
       "      <th></th>\n",
       "      <th>regionId</th>\n",
       "      <th>sizeRank</th>\n",
       "      <th>zhviValue</th>\n",
       "    </tr>\n",
       "  </thead>\n",
       "  <tbody>\n",
       "    <tr>\n",
       "      <th>count</th>\n",
       "      <td>40.0</td>\n",
       "      <td>40.0</td>\n",
       "      <td>40.000000</td>\n",
       "    </tr>\n",
       "    <tr>\n",
       "      <th>mean</th>\n",
       "      <td>394399.0</td>\n",
       "      <td>85.0</td>\n",
       "      <td>301878.123710</td>\n",
       "    </tr>\n",
       "    <tr>\n",
       "      <th>std</th>\n",
       "      <td>0.0</td>\n",
       "      <td>0.0</td>\n",
       "      <td>38082.327007</td>\n",
       "    </tr>\n",
       "    <tr>\n",
       "      <th>min</th>\n",
       "      <td>394399.0</td>\n",
       "      <td>85.0</td>\n",
       "      <td>243251.218800</td>\n",
       "    </tr>\n",
       "    <tr>\n",
       "      <th>25%</th>\n",
       "      <td>394399.0</td>\n",
       "      <td>85.0</td>\n",
       "      <td>274123.264525</td>\n",
       "    </tr>\n",
       "    <tr>\n",
       "      <th>50%</th>\n",
       "      <td>394399.0</td>\n",
       "      <td>85.0</td>\n",
       "      <td>300191.431450</td>\n",
       "    </tr>\n",
       "    <tr>\n",
       "      <th>75%</th>\n",
       "      <td>394399.0</td>\n",
       "      <td>85.0</td>\n",
       "      <td>327158.923725</td>\n",
       "    </tr>\n",
       "    <tr>\n",
       "      <th>max</th>\n",
       "      <td>394399.0</td>\n",
       "      <td>85.0</td>\n",
       "      <td>394299.234600</td>\n",
       "    </tr>\n",
       "  </tbody>\n",
       "</table>\n",
       "</div>"
      ],
      "text/plain": [
       "       regionId  sizeRank      zhviValue\n",
       "count      40.0      40.0      40.000000\n",
       "mean   394399.0      85.0  301878.123710\n",
       "std         0.0       0.0   38082.327007\n",
       "min    394399.0      85.0  243251.218800\n",
       "25%    394399.0      85.0  274123.264525\n",
       "50%    394399.0      85.0  300191.431450\n",
       "75%    394399.0      85.0  327158.923725\n",
       "max    394399.0      85.0  394299.234600"
      ]
     },
     "execution_count": 68,
     "metadata": {},
     "output_type": "execute_result"
    }
   ],
   "source": [
    "#creating a DF from that query\n",
    "df = pd.DataFrame(data, columns=['regionId','sizeRank','date','city','zhviValue'])\n",
    "df.describe()"
   ]
  },
  {
   "cell_type": "code",
   "execution_count": 35,
   "metadata": {},
   "outputs": [
    {
     "data": {
      "text/plain": [
       "<matplotlib.axes._subplots.AxesSubplot at 0x1e9fc0c6160>"
      ]
     },
     "execution_count": 35,
     "metadata": {},
     "output_type": "execute_result"
    },
    {
     "data": {
      "image/png": "[encoded data removed]",
      "text/plain": [
       "<Figure size 432x288 with 1 Axes>"
      ]
     },
     "metadata": {
      "needs_background": "light"
     },
     "output_type": "display_data"
    }
   ],
   "source": [
    "rollingAvg = df['zhviValue'].rolling(window=3).mean()\n",
    "rollingAvg.plot()"
   ]
  },
  {
   "cell_type": "code",
   "execution_count": 146,
   "metadata": {},
   "outputs": [
    {
     "data": {
      "text/plain": [
       "array([-1.55908998])"
      ]
     },
     "execution_count": 146,
     "metadata": {},
     "output_type": "execute_result"
    }
   ],
   "source": [
    "# series forcasting on JUST the zhvi column, also called a BASELINE model\n",
    "# it just takes the previous value and uses as the future value, based on the shift amt\n",
    "from sklearn.preprocessing import MinMaxScaler\n",
    "# NORMALIZE the dataframe (which just contains the zhvi col right now)\n",
    "series_value = df[['zhviValue']]\n",
    "scaler = MinMaxScaler(feature_range=(0,1))\n",
    "scaler = scaler.fit(series_value)\n",
    "series_normalized = scaler.transform(series_value)\n",
    "\n",
    "from sklearn.preprocessing import StandardScaler\n",
    "# now also use STANDARDIZATION tranformation\n",
    "std_scaler = StandardScaler()\n",
    "std_scaler = std_scaler.fit(series_normalized)\n",
    "std_zhvi = std_scaler.transform(series_normalized)"
   ]
  },
  {
   "cell_type": "code",
   "execution_count": 69,
   "metadata": {},
   "outputs": [
    {
     "data": {
      "text/plain": [
       "19461.223403782384"
      ]
     },
     "execution_count": 69,
     "metadata": {},
     "output_type": "execute_result"
    }
   ],
   "source": [
    "new_df = pd.concat([series_value, series_value.shift(5)], axis=1)\n",
    "new_df.columns = ['zhvi', 'forecast_zhvi']\n",
    "\n",
    "import numpy as np\n",
    "from sklearn.metrics import mean_squared_error\n",
    "\n",
    "# find RMSE of the zhvi/forecast_zhvi vals\n",
    "# first need to get rid of the NULL values from the forecast col\n",
    "new_df2 = new_df[5:]\n",
    "zhvi_error = mean_squared_error(new_df2.zhvi, new_df2.forecast_zhvi)\n",
    "np.sqrt(zhvi_error) #avg error is $19,461. which is better than the STD which is $38,000"
   ]
  },
  {
   "cell_type": "code",
   "execution_count": 76,
   "metadata": {},
   "outputs": [
    {
     "data": {
      "image/png": "[encoded data removed]",
      "text/plain": [
       "<Figure size 432x288 with 1 Axes>"
      ]
     },
     "execution_count": 76,
     "metadata": {},
     "output_type": "execute_result"
    },
    {
     "data": {
      "image/png": "[encoded data removed]",
      "text/plain": [
       "<Figure size 432x288 with 1 Axes>"
      ]
     },
     "metadata": {
      "needs_background": "light"
     },
     "output_type": "display_data"
    }
   ],
   "source": [
    "from statsmodels.graphics.tsaplots import plot_acf,plot_pacf\n",
    "# try to create an ARIMA model. Autoregressive Integrated Moving Average\n",
    "# ARIMA(p,d,q)\n",
    "# plot_acf identifies the Q val\n",
    "\n",
    "plot_acf(df['zhviValue'])"
   ]
  },
  {
   "cell_type": "code",
   "execution_count": 78,
   "metadata": {},
   "outputs": [
    {
     "data": {
      "image/png": "[encoded data removed]",
      "text/plain": [
       "<Figure size 432x288 with 1 Axes>"
      ]
     },
     "execution_count": 78,
     "metadata": {},
     "output_type": "execute_result"
    },
    {
     "data": {
      "image/png": "[encoded data removed]",
      "text/plain": [
       "<Figure size 432x288 with 1 Axes>"
      ]
     },
     "metadata": {
      "needs_background": "light"
     },
     "output_type": "display_data"
    }
   ],
   "source": [
    "plot_pacf(df['zhviValue']) # identify P value"
   ]
  },
  {
   "cell_type": "code",
   "execution_count": 147,
   "metadata": {},
   "outputs": [],
   "source": [
    "# p = 2\n",
    "# d = 0\n",
    "# q = 4\n",
    "\n",
    "zhvi_train = std_zhvi[:33]\n",
    "zhvi_test = std_zhvi[33:]"
   ]
  },
  {
   "cell_type": "code",
   "execution_count": 148,
   "metadata": {},
   "outputs": [
    {
     "name": "stderr",
     "output_type": "stream",
     "text": [
      "C:\\Users\\offic\\Anaconda3\\lib\\site-packages\\statsmodels\\base\\model.py:547: HessianInversionWarning: Inverting hessian failed, no bse or cov_params available\n",
      "  warn('Inverting hessian failed, no bse or cov_params '\n"
     ]
    },
    {
     "data": {
      "text/plain": [
       "-113.64060407482177"
      ]
     },
     "execution_count": 148,
     "metadata": {},
     "output_type": "execute_result"
    }
   ],
   "source": [
    "from statsmodels.tsa.arima_model import ARIMA\n",
    "zhvi_model = ARIMA(zhvi_train, order=(2,1,4))\n",
    "zhvi_model_fit = zhvi_model.fit()\n",
    "zhvi_model_fit.aic # the lower aic, the better"
   ]
  },
  {
   "cell_type": "code",
   "execution_count": 149,
   "metadata": {},
   "outputs": [
    {
     "data": {
      "text/plain": [
       "array([0.92376613, 0.99694677, 1.0794185 , 1.16124774, 1.2402926 ,\n",
       "       1.31944506, 1.39664511])"
      ]
     },
     "execution_count": 149,
     "metadata": {},
     "output_type": "execute_result"
    }
   ],
   "source": [
    "# TRAINED portion of the data set\n",
    "zhvi_forecast = zhvi_model_fit.forecast(steps=7)[0]\n",
    "zhvi_forecast # next 7 forecast, so try to match it to my TEST data set."
   ]
  },
  {
   "cell_type": "code",
   "execution_count": 150,
   "metadata": {},
   "outputs": [
    {
     "data": {
      "text/plain": [
       "array([[0.985601  ],\n",
       "       [1.02725989],\n",
       "       [1.24776243],\n",
       "       [1.42494954],\n",
       "       [1.73269477],\n",
       "       [2.0740405 ],\n",
       "       [2.45779354]])"
      ]
     },
     "execution_count": 150,
     "metadata": {},
     "output_type": "execute_result"
    }
   ],
   "source": [
    "# untouched, TEST portion of data set\n",
    "zhvi_test"
   ]
  },
  {
   "cell_type": "code",
   "execution_count": 151,
   "metadata": {},
   "outputs": [
    {
     "data": {
      "text/plain": [
       "0.5399114929832626"
      ]
     },
     "execution_count": 151,
     "metadata": {},
     "output_type": "execute_result"
    }
   ],
   "source": [
    "# new RMSE with ARIMA technique, $20,000, but its worse than the baseline model LOL.\n",
    "# second time around i did the RMSE on the NORMALIZED training/test sets\n",
    "arima_mse = mean_squared_error(zhvi_test, zhvi_forecast)\n",
    "np.sqrt(arima_mse)"
   ]
  },
  {
   "cell_type": "code",
   "execution_count": 152,
   "metadata": {},
   "outputs": [
    {
     "data": {
      "text/plain": [
       "array([[382784.25930905],\n",
       "       [393838.04978794],\n",
       "       [406295.24075882],\n",
       "       [418655.38570266],\n",
       "       [430594.95458644],\n",
       "       [442550.7765181 ],\n",
       "       [454211.69099627]])"
      ]
     },
     "execution_count": 152,
     "metadata": {},
     "output_type": "execute_result"
    }
   ],
   "source": [
    "# transforming the TRAINED data back to original values\n",
    "zhvi_forecast_reshape = zhvi_forecast.reshape(len(zhvi_forecast), 1)\n",
    "zhvi_forecast_reverse = scaler.inverse_transform(zhvi_forecast_reshape)\n",
    "zhvi_forecast_reverse"
   ]
  },
  {
   "cell_type": "code",
   "execution_count": 142,
   "metadata": {},
   "outputs": [
    {
     "data": {
      "text/plain": [
       "array([[338939.9591],\n",
       "       [340506.4702],\n",
       "       [348798.09  ],\n",
       "       [355460.9072],\n",
       "       [367033.1389],\n",
       "       [379868.8597],\n",
       "       [394299.2346]])"
      ]
     },
     "execution_count": 142,
     "metadata": {},
     "output_type": "execute_result"
    }
   ],
   "source": [
    "# transforming the TRAINED data back to original values\n",
    "zhvi_test_reshape = zhvi_test.reshape(len(zhvi_test), 1)\n",
    "zhvi_test_reverse = scaler.inverse_transform(zhvi_test_reshape)\n",
    "zhvi_test_reverse"
   ]
  },
  {
   "cell_type": "code",
   "execution_count": 153,
   "metadata": {},
   "outputs": [
    {
     "data": {
      "text/plain": [
       "58094.349419784405"
      ]
     },
     "execution_count": 153,
     "metadata": {},
     "output_type": "execute_result"
    }
   ],
   "source": [
    "# RMSE on the normalized training/test sets. BUT BACK in the normal values, rather than on the 0-1 values\n",
    "# 20,000, so it didnt really make any difference on normalizing/not normalizing the data\n",
    "# 58,000 with normalization + standardization, very bad lol\n",
    "arima_mse = mean_squared_error(zhvi_test_reverse, zhvi_forecast_reverse)\n",
    "np.sqrt(arima_mse)"
   ]
  },
  {
   "cell_type": "code",
   "execution_count": null,
   "metadata": {},
   "outputs": [],
   "source": []
  }
 ],
 "metadata": {
  "kernelspec": {
   "display_name": "venv",
   "language": "python",
   "name": "venv"
  },
  "language_info": {
   "codemirror_mode": {
    "name": "ipython",
    "version": 3
   },
   "file_extension": ".py",
   "mimetype": "text/x-python",
   "name": "python",
   "nbconvert_exporter": "python",
   "pygments_lexer": "ipython3",
   "version": "3.8.3"
  }
 },
 "nbformat": 4,
 "nbformat_minor": 4
}
